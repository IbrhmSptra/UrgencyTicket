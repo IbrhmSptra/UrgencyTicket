{
 "cells": [
  {
   "cell_type": "markdown",
   "metadata": {},
   "source": [
    "# 1. Import Library"
   ]
  },
  {
   "cell_type": "code",
   "execution_count": 36,
   "metadata": {},
   "outputs": [
    {
     "name": "stderr",
     "output_type": "stream",
     "text": [
      "[nltk_data] Downloading package punkt to C:\\Users\\Ibrahim\n",
      "[nltk_data]     Saputra\\AppData\\Roaming\\nltk_data...\n",
      "[nltk_data]   Package punkt is already up-to-date!\n"
     ]
    }
   ],
   "source": [
    "import pandas as pd #untuk Dataframe\n",
    "import re #Untuk Remove Punct\n",
    "import numpy as np #untuk perhitungan\n",
    "import random #untuk set seed sample\n",
    "\n",
    "#Untuk Tokenization\n",
    "import nltk\n",
    "nltk.download('punkt')\n",
    "\n",
    "#word embedding lib\n",
    "from gensim.models import FastText \n",
    "\n",
    "#Data Visualitaion\n",
    "import seaborn as sns #Untuk visualisasi\n",
    "import matplotlib.pyplot as plt #Untuk visualisasi\n",
    "\n",
    "#imbalanced Dataset\n",
    "from imblearn.over_sampling import SMOTE #Untuk Oversampling\n",
    "\n",
    "\n",
    "#Modeling Classifier\n",
    "from sklearn.model_selection import train_test_split #Untuk mebagi data menjadi Train Dan Test\n",
    "from sklearn.neighbors import KNeighborsClassifier #KNN Algo\n",
    "\n",
    "#Evaluate\n",
    "from sklearn.model_selection import cross_val_score # CrossFold Validation\n",
    "from sklearn.metrics import confusion_matrix, ConfusionMatrixDisplay#Untuk Membuat Confusion Matrix\n",
    "from sklearn.model_selection import GridSearchCV # Parameter Tunning\n",
    "\n",
    "#Export model\n",
    "from joblib import dump"
   ]
  },
  {
   "cell_type": "markdown",
   "metadata": {},
   "source": [
    "# 2. Import Dataset"
   ]
  },
  {
   "cell_type": "code",
   "execution_count": 37,
   "metadata": {},
   "outputs": [
    {
     "name": "stdout",
     "output_type": "stream",
     "text": [
      "(4748, 18)\n"
     ]
    },
    {
     "data": {
      "text/html": [
       "<div>\n",
       "<style scoped>\n",
       "    .dataframe tbody tr th:only-of-type {\n",
       "        vertical-align: middle;\n",
       "    }\n",
       "\n",
       "    .dataframe tbody tr th {\n",
       "        vertical-align: top;\n",
       "    }\n",
       "\n",
       "    .dataframe thead th {\n",
       "        text-align: right;\n",
       "    }\n",
       "</style>\n",
       "<table border=\"1\" class=\"dataframe\">\n",
       "  <thead>\n",
       "    <tr style=\"text-align: right;\">\n",
       "      <th></th>\n",
       "      <th>Incident No</th>\n",
       "      <th>Status</th>\n",
       "      <th>service (Layanan berdasarkan kategori)</th>\n",
       "      <th>Category</th>\n",
       "      <th>Caller</th>\n",
       "      <th>VIP</th>\n",
       "      <th>Title</th>\n",
       "      <th>Urgency</th>\n",
       "      <th>Priority</th>\n",
       "      <th>Source</th>\n",
       "      <th>Assign On (Send email to agent based on ticket)</th>\n",
       "      <th>SLA (Ticketing treeshold)</th>\n",
       "      <th>Created On (Admin Get email)</th>\n",
       "      <th>Created By</th>\n",
       "      <th>Resolved On</th>\n",
       "      <th>Resolved By</th>\n",
       "      <th>Resolved On Agent</th>\n",
       "      <th>Resolved By Agent</th>\n",
       "    </tr>\n",
       "  </thead>\n",
       "  <tbody>\n",
       "    <tr>\n",
       "      <th>0</th>\n",
       "      <td>1000129</td>\n",
       "      <td>Closed</td>\n",
       "      <td>AirCRM</td>\n",
       "      <td>Opportunity</td>\n",
       "      <td>Name*****</td>\n",
       "      <td>False</td>\n",
       "      <td>Upgrade tidak bisa</td>\n",
       "      <td>Low</td>\n",
       "      <td>4</td>\n",
       "      <td>Self Service</td>\n",
       "      <td>2020-08-28 17:18:03</td>\n",
       "      <td>False</td>\n",
       "      <td>2020-08-27 17:19:20</td>\n",
       "      <td>Name*****</td>\n",
       "      <td>2020-08-28 17:19:03</td>\n",
       "      <td>Name*****</td>\n",
       "      <td>NaN</td>\n",
       "      <td>NaN</td>\n",
       "    </tr>\n",
       "    <tr>\n",
       "      <th>1</th>\n",
       "      <td>1000132</td>\n",
       "      <td>Closed</td>\n",
       "      <td>AirCRM</td>\n",
       "      <td>Email Invoice</td>\n",
       "      <td>Name*****</td>\n",
       "      <td>False</td>\n",
       "      <td>Kirim Ulang Email Pembayaran</td>\n",
       "      <td>Low</td>\n",
       "      <td>4</td>\n",
       "      <td>Email</td>\n",
       "      <td>2020-08-28 17:13:56</td>\n",
       "      <td>False</td>\n",
       "      <td>2020-08-28 08:15:59</td>\n",
       "      <td>Name*****</td>\n",
       "      <td>2020-08-28 17:14:11</td>\n",
       "      <td>Name*****</td>\n",
       "      <td>NaN</td>\n",
       "      <td>NaN</td>\n",
       "    </tr>\n",
       "    <tr>\n",
       "      <th>2</th>\n",
       "      <td>1000133</td>\n",
       "      <td>Closed</td>\n",
       "      <td>AirCRM</td>\n",
       "      <td>Opportunity</td>\n",
       "      <td>Name*****</td>\n",
       "      <td>False</td>\n",
       "      <td>Status Aircrm</td>\n",
       "      <td>Low</td>\n",
       "      <td>4</td>\n",
       "      <td>Email</td>\n",
       "      <td>2020-09-01 14:05:23</td>\n",
       "      <td>True</td>\n",
       "      <td>2020-08-28 08:52:15</td>\n",
       "      <td>Name*****</td>\n",
       "      <td>2020-09-02 15:25:29</td>\n",
       "      <td>Name*****</td>\n",
       "      <td>NaN</td>\n",
       "      <td>NaN</td>\n",
       "    </tr>\n",
       "    <tr>\n",
       "      <th>3</th>\n",
       "      <td>1000138</td>\n",
       "      <td>Closed</td>\n",
       "      <td>AirCRM</td>\n",
       "      <td>VA Expired</td>\n",
       "      <td>Name*****</td>\n",
       "      <td>False</td>\n",
       "      <td>Pembayaran antar bank bermasalah</td>\n",
       "      <td>Low</td>\n",
       "      <td>4</td>\n",
       "      <td>Email</td>\n",
       "      <td>2020-08-31 09:29:35</td>\n",
       "      <td>False</td>\n",
       "      <td>2020-08-31 08:24:37</td>\n",
       "      <td>Name*****</td>\n",
       "      <td>2020-08-31 09:31:11</td>\n",
       "      <td>Name*****</td>\n",
       "      <td>NaN</td>\n",
       "      <td>NaN</td>\n",
       "    </tr>\n",
       "    <tr>\n",
       "      <th>4</th>\n",
       "      <td>1000139</td>\n",
       "      <td>Closed</td>\n",
       "      <td>AirCRM</td>\n",
       "      <td>Email Invoice</td>\n",
       "      <td>Name*****</td>\n",
       "      <td>False</td>\n",
       "      <td>resend email tagihan awal customer</td>\n",
       "      <td>Low</td>\n",
       "      <td>4</td>\n",
       "      <td>Email</td>\n",
       "      <td>2020-08-31 09:36:09</td>\n",
       "      <td>False</td>\n",
       "      <td>2020-08-31 08:56:04</td>\n",
       "      <td>Name*****</td>\n",
       "      <td>2020-08-31 09:36:26</td>\n",
       "      <td>Name*****</td>\n",
       "      <td>NaN</td>\n",
       "      <td>NaN</td>\n",
       "    </tr>\n",
       "  </tbody>\n",
       "</table>\n",
       "</div>"
      ],
      "text/plain": [
       "   Incident No  Status service (Layanan berdasarkan kategori)       Category  \\\n",
       "0      1000129  Closed                                 AirCRM    Opportunity   \n",
       "1      1000132  Closed                                 AirCRM  Email Invoice   \n",
       "2      1000133  Closed                                 AirCRM    Opportunity   \n",
       "3      1000138  Closed                                 AirCRM     VA Expired   \n",
       "4      1000139  Closed                                 AirCRM  Email Invoice   \n",
       "\n",
       "      Caller    VIP                               Title Urgency  Priority  \\\n",
       "0  Name*****  False                  Upgrade tidak bisa     Low         4   \n",
       "1  Name*****  False        Kirim Ulang Email Pembayaran     Low         4   \n",
       "2  Name*****  False                       Status Aircrm     Low         4   \n",
       "3  Name*****  False    Pembayaran antar bank bermasalah     Low         4   \n",
       "4  Name*****  False  resend email tagihan awal customer     Low         4   \n",
       "\n",
       "         Source Assign On (Send email to agent based on ticket)  \\\n",
       "0  Self Service                             2020-08-28 17:18:03   \n",
       "1         Email                             2020-08-28 17:13:56   \n",
       "2         Email                             2020-09-01 14:05:23   \n",
       "3         Email                             2020-08-31 09:29:35   \n",
       "4         Email                             2020-08-31 09:36:09   \n",
       "\n",
       "   SLA (Ticketing treeshold) Created On (Admin Get email) Created By  \\\n",
       "0                      False          2020-08-27 17:19:20  Name*****   \n",
       "1                      False          2020-08-28 08:15:59  Name*****   \n",
       "2                       True          2020-08-28 08:52:15  Name*****   \n",
       "3                      False          2020-08-31 08:24:37  Name*****   \n",
       "4                      False          2020-08-31 08:56:04  Name*****   \n",
       "\n",
       "          Resolved On Resolved By  Resolved On Agent  Resolved By Agent  \n",
       "0 2020-08-28 17:19:03   Name*****                NaN                NaN  \n",
       "1 2020-08-28 17:14:11   Name*****                NaN                NaN  \n",
       "2 2020-09-02 15:25:29   Name*****                NaN                NaN  \n",
       "3 2020-08-31 09:31:11   Name*****                NaN                NaN  \n",
       "4 2020-08-31 09:36:26   Name*****                NaN                NaN  "
      ]
     },
     "execution_count": 37,
     "metadata": {},
     "output_type": "execute_result"
    }
   ],
   "source": [
    "df = pd.read_excel(\"dataIcon.xlsx\")\n",
    "print(df.shape)\n",
    "df.head()"
   ]
  },
  {
   "cell_type": "markdown",
   "metadata": {},
   "source": [
    "# 3. Text Extraction And Clean Up"
   ]
  },
  {
   "cell_type": "markdown",
   "metadata": {},
   "source": [
    "### - Drop And Rename"
   ]
  },
  {
   "cell_type": "code",
   "execution_count": 38,
   "metadata": {},
   "outputs": [
    {
     "data": {
      "text/html": [
       "<div>\n",
       "<style scoped>\n",
       "    .dataframe tbody tr th:only-of-type {\n",
       "        vertical-align: middle;\n",
       "    }\n",
       "\n",
       "    .dataframe tbody tr th {\n",
       "        vertical-align: top;\n",
       "    }\n",
       "\n",
       "    .dataframe thead th {\n",
       "        text-align: right;\n",
       "    }\n",
       "</style>\n",
       "<table border=\"1\" class=\"dataframe\">\n",
       "  <thead>\n",
       "    <tr style=\"text-align: right;\">\n",
       "      <th></th>\n",
       "      <th>Title</th>\n",
       "      <th>Urgency</th>\n",
       "    </tr>\n",
       "  </thead>\n",
       "  <tbody>\n",
       "    <tr>\n",
       "      <th>0</th>\n",
       "      <td>Upgrade tidak bisa</td>\n",
       "      <td>Low</td>\n",
       "    </tr>\n",
       "    <tr>\n",
       "      <th>1</th>\n",
       "      <td>Kirim Ulang Email Pembayaran</td>\n",
       "      <td>Low</td>\n",
       "    </tr>\n",
       "    <tr>\n",
       "      <th>2</th>\n",
       "      <td>Status Aircrm</td>\n",
       "      <td>Low</td>\n",
       "    </tr>\n",
       "    <tr>\n",
       "      <th>3</th>\n",
       "      <td>Pembayaran antar bank bermasalah</td>\n",
       "      <td>Low</td>\n",
       "    </tr>\n",
       "    <tr>\n",
       "      <th>4</th>\n",
       "      <td>resend email tagihan awal customer</td>\n",
       "      <td>Low</td>\n",
       "    </tr>\n",
       "  </tbody>\n",
       "</table>\n",
       "</div>"
      ],
      "text/plain": [
       "                                Title Urgency\n",
       "0                  Upgrade tidak bisa     Low\n",
       "1        Kirim Ulang Email Pembayaran     Low\n",
       "2                       Status Aircrm     Low\n",
       "3    Pembayaran antar bank bermasalah     Low\n",
       "4  resend email tagihan awal customer     Low"
      ]
     },
     "execution_count": 38,
     "metadata": {},
     "output_type": "execute_result"
    }
   ],
   "source": [
    "df = df.rename(columns={'service (Layanan berdasarkan kategori)' : 'Service'})\n",
    "df = df.rename(columns={'Assign On (Send email to agent based on ticket)' : 'Assign On'})\n",
    "df = df.rename(columns={'Created On (Admin Get email)' : 'Created On'})\n",
    "df.drop(['Resolved On','Assign On','Category','Service','Caller','Status','Source',\n",
    "         'Created On','Created By','Resolved By','Resolved On Agent','Resolved By Agent','Incident No',\n",
    "         'VIP','Priority','SLA (Ticketing treeshold)'],axis=1,inplace=True)\n",
    "df.head()"
   ]
  },
  {
   "cell_type": "markdown",
   "metadata": {},
   "source": [
    "### - Remove NA Values"
   ]
  },
  {
   "cell_type": "code",
   "execution_count": 39,
   "metadata": {},
   "outputs": [
    {
     "data": {
      "text/plain": [
       "Title      False\n",
       "Urgency    False\n",
       "dtype: bool"
      ]
     },
     "execution_count": 39,
     "metadata": {},
     "output_type": "execute_result"
    }
   ],
   "source": [
    "#Check apakah ada NA\n",
    "df.isna().any()"
   ]
  },
  {
   "cell_type": "markdown",
   "metadata": {},
   "source": [
    "### - Remove Punctuation"
   ]
  },
  {
   "cell_type": "code",
   "execution_count": 40,
   "metadata": {},
   "outputs": [],
   "source": [
    "# Fungsi untuk remove selain huruf dan angka seperti ()[]?}{}':;><,. dll\n",
    "def rmPunct(text) :\n",
    "    text = re.sub(r'[^\\w\\s]',' ',text) #rm punctuation\n",
    "    text = re.sub(r' +',' ',text) #rm space more than 1\n",
    "    return text.strip().lower() #rm leading space and make it al lowercase"
   ]
  },
  {
   "cell_type": "code",
   "execution_count": 41,
   "metadata": {},
   "outputs": [
    {
     "data": {
      "text/html": [
       "<div>\n",
       "<style scoped>\n",
       "    .dataframe tbody tr th:only-of-type {\n",
       "        vertical-align: middle;\n",
       "    }\n",
       "\n",
       "    .dataframe tbody tr th {\n",
       "        vertical-align: top;\n",
       "    }\n",
       "\n",
       "    .dataframe thead th {\n",
       "        text-align: right;\n",
       "    }\n",
       "</style>\n",
       "<table border=\"1\" class=\"dataframe\">\n",
       "  <thead>\n",
       "    <tr style=\"text-align: right;\">\n",
       "      <th></th>\n",
       "      <th>Title</th>\n",
       "      <th>Urgency</th>\n",
       "    </tr>\n",
       "  </thead>\n",
       "  <tbody>\n",
       "    <tr>\n",
       "      <th>0</th>\n",
       "      <td>upgrade tidak bisa</td>\n",
       "      <td>Low</td>\n",
       "    </tr>\n",
       "    <tr>\n",
       "      <th>1</th>\n",
       "      <td>kirim ulang email pembayaran</td>\n",
       "      <td>Low</td>\n",
       "    </tr>\n",
       "    <tr>\n",
       "      <th>2</th>\n",
       "      <td>status aircrm</td>\n",
       "      <td>Low</td>\n",
       "    </tr>\n",
       "    <tr>\n",
       "      <th>3</th>\n",
       "      <td>pembayaran antar bank bermasalah</td>\n",
       "      <td>Low</td>\n",
       "    </tr>\n",
       "    <tr>\n",
       "      <th>4</th>\n",
       "      <td>resend email tagihan awal customer</td>\n",
       "      <td>Low</td>\n",
       "    </tr>\n",
       "  </tbody>\n",
       "</table>\n",
       "</div>"
      ],
      "text/plain": [
       "                                Title Urgency\n",
       "0                  upgrade tidak bisa     Low\n",
       "1        kirim ulang email pembayaran     Low\n",
       "2                       status aircrm     Low\n",
       "3    pembayaran antar bank bermasalah     Low\n",
       "4  resend email tagihan awal customer     Low"
      ]
     },
     "execution_count": 41,
     "metadata": {},
     "output_type": "execute_result"
    }
   ],
   "source": [
    "df.Title = df.Title.map(rmPunct)\n",
    "df.head()"
   ]
  },
  {
   "cell_type": "markdown",
   "metadata": {},
   "source": [
    "# 4. Pre-Processing"
   ]
  },
  {
   "cell_type": "markdown",
   "metadata": {},
   "source": [
    "### - Imbalance Dataset Check"
   ]
  },
  {
   "cell_type": "code",
   "execution_count": 42,
   "metadata": {},
   "outputs": [
    {
     "data": {
      "text/plain": [
       "Urgency\n",
       "Low       4704\n",
       "Medium      33\n",
       "High        11\n",
       "Name: count, dtype: int64"
      ]
     },
     "execution_count": 42,
     "metadata": {},
     "output_type": "execute_result"
    }
   ],
   "source": [
    "df.Urgency.value_counts()"
   ]
  },
  {
   "cell_type": "code",
   "execution_count": 43,
   "metadata": {},
   "outputs": [
    {
     "data": {
      "text/plain": [
       "Urgency\n",
       "Low       99.073294\n",
       "Medium     0.695029\n",
       "High       0.231676\n",
       "Name: count, dtype: float64"
      ]
     },
     "execution_count": 43,
     "metadata": {},
     "output_type": "execute_result"
    }
   ],
   "source": [
    "df.Urgency.value_counts() / len(df.Urgency) * 100"
   ]
  },
  {
   "cell_type": "code",
   "execution_count": 44,
   "metadata": {},
   "outputs": [
    {
     "data": {
      "text/plain": [
       "<Axes: xlabel='Urgency', ylabel='Count'>"
      ]
     },
     "execution_count": 44,
     "metadata": {},
     "output_type": "execute_result"
    },
    {
     "data": {
      "image/png": "[encoded data removed]",
      "text/plain": [
       "<Figure size 640x480 with 1 Axes>"
      ]
     },
     "metadata": {},
     "output_type": "display_data"
    }
   ],
   "source": [
    "sns.histplot(data=df, x='Urgency', color='skyblue')"
   ]
  },
  {
   "cell_type": "markdown",
   "metadata": {},
   "source": [
    "### - UnderSampling Low Urgency"
   ]
  },
  {
   "cell_type": "code",
   "execution_count": 45,
   "metadata": {},
   "outputs": [
    {
     "data": {
      "text/html": [
       "<div>\n",
       "<style scoped>\n",
       "    .dataframe tbody tr th:only-of-type {\n",
       "        vertical-align: middle;\n",
       "    }\n",
       "\n",
       "    .dataframe tbody tr th {\n",
       "        vertical-align: top;\n",
       "    }\n",
       "\n",
       "    .dataframe thead th {\n",
       "        text-align: right;\n",
       "    }\n",
       "</style>\n",
       "<table border=\"1\" class=\"dataframe\">\n",
       "  <thead>\n",
       "    <tr style=\"text-align: right;\">\n",
       "      <th></th>\n",
       "      <th>Title</th>\n",
       "      <th>Urgency</th>\n",
       "    </tr>\n",
       "  </thead>\n",
       "  <tbody>\n",
       "    <tr>\n",
       "      <th>0</th>\n",
       "      <td>upgrade tidak bisa</td>\n",
       "      <td>Low</td>\n",
       "    </tr>\n",
       "    <tr>\n",
       "      <th>1</th>\n",
       "      <td>kirim ulang email pembayaran</td>\n",
       "      <td>Low</td>\n",
       "    </tr>\n",
       "    <tr>\n",
       "      <th>2</th>\n",
       "      <td>status aircrm</td>\n",
       "      <td>Low</td>\n",
       "    </tr>\n",
       "    <tr>\n",
       "      <th>3</th>\n",
       "      <td>pembayaran antar bank bermasalah</td>\n",
       "      <td>Low</td>\n",
       "    </tr>\n",
       "    <tr>\n",
       "      <th>4</th>\n",
       "      <td>resend email tagihan awal customer</td>\n",
       "      <td>Low</td>\n",
       "    </tr>\n",
       "  </tbody>\n",
       "</table>\n",
       "</div>"
      ],
      "text/plain": [
       "                                Title Urgency\n",
       "0                  upgrade tidak bisa     Low\n",
       "1        kirim ulang email pembayaran     Low\n",
       "2                       status aircrm     Low\n",
       "3    pembayaran antar bank bermasalah     Low\n",
       "4  resend email tagihan awal customer     Low"
      ]
     },
     "execution_count": 45,
     "metadata": {},
     "output_type": "execute_result"
    }
   ],
   "source": [
    "#Ambil Df yang urgencynya Low\n",
    "df_classLow = df[df['Urgency'] == 'Low']\n",
    "df_classLow.head()"
   ]
  },
  {
   "cell_type": "code",
   "execution_count": 46,
   "metadata": {},
   "outputs": [
    {
     "data": {
      "text/plain": [
       "(2000, 2)"
      ]
     },
     "execution_count": 46,
     "metadata": {},
     "output_type": "execute_result"
    }
   ],
   "source": [
    "#Set Seed\n",
    "seed = 64\n",
    "random.seed(seed)\n",
    "np.random.seed(seed)\n",
    "\n",
    "#ambil random 2000 sample (UnderSampling)\n",
    "df_classLow = df_classLow.sample(2000)\n",
    "df_classLow.shape"
   ]
  },
  {
   "cell_type": "code",
   "execution_count": 47,
   "metadata": {},
   "outputs": [
    {
     "name": "stdout",
     "output_type": "stream",
     "text": [
      "Urgency\n",
      "Low       97.847358\n",
      "Medium     1.614481\n",
      "High       0.538160\n",
      "Name: count, dtype: float64\n"
     ]
    },
    {
     "data": {
      "text/plain": [
       "<Axes: xlabel='Urgency', ylabel='Count'>"
      ]
     },
     "execution_count": 47,
     "metadata": {},
     "output_type": "execute_result"
    },
    {
     "data": {
      "image/png": "[encoded data removed]",
      "text/plain": [
       "<Figure size 640x480 with 1 Axes>"
      ]
     },
     "metadata": {},
     "output_type": "display_data"
    }
   ],
   "source": [
    "#copotin low dengan df yang asli lalu concat dengan df urgency low yang disample\n",
    "df = df[df['Urgency'] != 'Low']\n",
    "df = pd.concat([df,df_classLow], axis='rows')\n",
    "print(df.Urgency.value_counts() / len(df.Urgency) * 100)\n",
    "sns.histplot(data=df, x='Urgency', color='skyblue')"
   ]
  },
  {
   "cell_type": "markdown",
   "metadata": {},
   "source": [
    "### - Encoding Urgency"
   ]
  },
  {
   "cell_type": "code",
   "execution_count": 48,
   "metadata": {},
   "outputs": [],
   "source": [
    "def encodeUrgency(x) :\n",
    "    if x=='Low':\n",
    "        return 1\n",
    "    if x=='Medium' :\n",
    "        return 2\n",
    "    if x=='High' :\n",
    "        return 3"
   ]
  },
  {
   "cell_type": "code",
   "execution_count": 49,
   "metadata": {},
   "outputs": [
    {
     "data": {
      "text/plain": [
       "Urgency\n",
       "1    2000\n",
       "2      33\n",
       "3      11\n",
       "Name: count, dtype: int64"
      ]
     },
     "execution_count": 49,
     "metadata": {},
     "output_type": "execute_result"
    }
   ],
   "source": [
    "df['Urgency'] = df['Urgency'].map(encodeUrgency)\n",
    "df['Urgency'].value_counts()"
   ]
  },
  {
   "cell_type": "markdown",
   "metadata": {},
   "source": [
    "### - Encoding Text"
   ]
  },
  {
   "cell_type": "markdown",
   "metadata": {},
   "source": [
    "Load Word Embedding Models"
   ]
  },
  {
   "cell_type": "code",
   "execution_count": 50,
   "metadata": {},
   "outputs": [],
   "source": [
    "#load embeding models\n",
    "path = r\"C:\\Users\\Ibrahim Saputra\\OneDrive\\Documents\\Kuliah\\Semester 4\\BIS\\BIS_models-making\\wordembedding.fasttext\"\n",
    "wv = FastText.load(path).wv"
   ]
  },
  {
   "cell_type": "markdown",
   "metadata": {},
   "source": [
    "Word vector to Sentence vector"
   ]
  },
  {
   "cell_type": "code",
   "execution_count": 51,
   "metadata": {},
   "outputs": [],
   "source": [
    "#fungsi untuk mengubah word vector menjadi sentence vector\n",
    "# dengan return np.array 2D berisikan word yang sudah di tokenize dan di lower lalu ubah ke vector satukan dengan cara di rata rata dan satukan lagi menjadi sentence\n",
    "def vectorize(text,wvmodels) :\n",
    "    vecs = [wvmodels[word.lower()] for word in nltk.word_tokenize(text)]\n",
    "    vec = np.mean(vecs,axis=0)\n",
    "    return vec"
   ]
  },
  {
   "cell_type": "code",
   "execution_count": 52,
   "metadata": {},
   "outputs": [
    {
     "name": "stdout",
     "output_type": "stream",
     "text": [
      "[[ 0.1418723   0.44779882  0.18818147 ... -0.36829242  0.13194008\n",
      "   0.35238585]\n",
      " [ 0.24422304  1.0584408   0.5804253  ... -0.397326    0.2529584\n",
      "   0.48741388]\n",
      " [ 0.22759148  1.0682901   0.60084414 ... -0.4079904   0.2520011\n",
      "   0.48553118]\n",
      " ...\n",
      " [ 0.25155857  0.58295566  0.28752208 ... -0.4327733   0.22334667\n",
      "   0.47229108]\n",
      " [ 0.19633622  0.8093017   0.3188223  ... -0.55484736  0.22974457\n",
      "   0.6383415 ]\n",
      " [ 0.27559006  1.4395243   0.611986   ... -0.98445225  0.39977515\n",
      "   1.0024344 ]]\n",
      "(2044, 300)\n"
     ]
    }
   ],
   "source": [
    "#buat variable titlevecs berisikan array dari title yang sudah di tokenize di lower dan disatukan lalu di rata rata dengan membentuk shape 1 baris 300 kolom untuk setiap title\n",
    "titleVecs = [vectorize(title,wv) for title in df.Title]\n",
    "titleVecs = np.array(titleVecs)\n",
    "print(titleVecs)\n",
    "print(titleVecs.shape)"
   ]
  },
  {
   "cell_type": "markdown",
   "metadata": {},
   "source": [
    "### - Feature Label Split"
   ]
  },
  {
   "cell_type": "code",
   "execution_count": 53,
   "metadata": {},
   "outputs": [],
   "source": [
    "X = titleVecs\n",
    "y = df.Urgency"
   ]
  },
  {
   "cell_type": "markdown",
   "metadata": {},
   "source": [
    "### - OverSampling"
   ]
  },
  {
   "cell_type": "code",
   "execution_count": 54,
   "metadata": {},
   "outputs": [
    {
     "name": "stdout",
     "output_type": "stream",
     "text": [
      "Before :\n",
      "X = (2044, 300)\n",
      "y = (2044,)\n",
      "-------------------------------------\n",
      "After :\n",
      "X = (6000, 300)\n",
      "y = (6000,)\n"
     ]
    }
   ],
   "source": [
    "sm = SMOTE(random_state=30, k_neighbors=5)\n",
    "X_sm,y_sm =sm.fit_resample(X,y)\n",
    "print('Before :')\n",
    "print('X =',X.shape)\n",
    "print('y =',y.shape)\n",
    "print(\"-------------------------------------\")\n",
    "print('After :')\n",
    "print('X =',X_sm.shape)\n",
    "print('y =',y_sm.shape)"
   ]
  },
  {
   "cell_type": "code",
   "execution_count": 55,
   "metadata": {},
   "outputs": [
    {
     "name": "stdout",
     "output_type": "stream",
     "text": [
      "Urgency\n",
      "2    33.333333\n",
      "3    33.333333\n",
      "1    33.333333\n",
      "Name: count, dtype: float64\n"
     ]
    },
    {
     "data": {
      "text/plain": [
       "<Axes: xlabel='Urgency', ylabel='Count'>"
      ]
     },
     "execution_count": 55,
     "metadata": {},
     "output_type": "execute_result"
    },
    {
     "data": {
      "image/png": "[encoded data removed]",
      "text/plain": [
       "<Figure size 640x480 with 1 Axes>"
      ]
     },
     "metadata": {},
     "output_type": "display_data"
    }
   ],
   "source": [
    "print(y_sm.value_counts() / len(y_sm) * 100)\n",
    "sns.histplot(data=y_sm, color='skyblue')"
   ]
  },
  {
   "cell_type": "markdown",
   "metadata": {},
   "source": [
    "# 5. Modeling Machine Learning (KNN)"
   ]
  },
  {
   "cell_type": "markdown",
   "metadata": {},
   "source": [
    "### - Train Test Split"
   ]
  },
  {
   "cell_type": "code",
   "execution_count": 79,
   "metadata": {},
   "outputs": [
    {
     "name": "stdout",
     "output_type": "stream",
     "text": [
      "y_Train : Urgency\n",
      "3    1623\n",
      "2    1598\n",
      "1    1579\n",
      "Name: count, dtype: int64\n",
      "---------------------------------\n",
      "y_Test : Urgency\n",
      "1    421\n",
      "2    402\n",
      "3    377\n",
      "Name: count, dtype: int64\n"
     ]
    }
   ],
   "source": [
    "X_train, X_test, y_train, y_test = train_test_split(X_sm,y_sm, test_size=0.2, random_state=10)\n",
    "print('y_Train :',y_train.value_counts())\n",
    "print('---------------------------------')\n",
    "print('y_Test :',y_test.value_counts())"
   ]
  },
  {
   "cell_type": "markdown",
   "metadata": {},
   "source": [
    "### - Training KNN"
   ]
  },
  {
   "cell_type": "code",
   "execution_count": 80,
   "metadata": {},
   "outputs": [
    {
     "data": {
      "text/html": [
       "<style>#sk-container-id-6 {color: black;}#sk-container-id-6 pre{padding: 0;}#sk-container-id-6 div.sk-toggleable {background-color: white;}#sk-container-id-6 label.sk-toggleable__label {cursor: pointer;display: block;width: 100%;margin-bottom: 0;padding: 0.3em;box-sizing: border-box;text-align: center;}#sk-container-id-6 label.sk-toggleable__label-arrow:before {content: \"▸\";float: left;margin-right: 0.25em;color: #696969;}#sk-container-id-6 label.sk-toggleable__label-arrow:hover:before {color: black;}#sk-container-id-6 div.sk-estimator:hover label.sk-toggleable__label-arrow:before {color: black;}#sk-container-id-6 div.sk-toggleable__content {max-height: 0;max-width: 0;overflow: hidden;text-align: left;background-color: #f0f8ff;}#sk-container-id-6 div.sk-toggleable__content pre {margin: 0.2em;color: black;border-radius: 0.25em;background-color: #f0f8ff;}#sk-container-id-6 input.sk-toggleable__control:checked~div.sk-toggleable__content {max-height: 200px;max-width: 100%;overflow: auto;}#sk-container-id-6 input.sk-toggleable__control:checked~label.sk-toggleable__label-arrow:before {content: \"▾\";}#sk-container-id-6 div.sk-estimator input.sk-toggleable__control:checked~label.sk-toggleable__label {background-color: #d4ebff;}#sk-container-id-6 div.sk-label input.sk-toggleable__control:checked~label.sk-toggleable__label {background-color: #d4ebff;}#sk-container-id-6 input.sk-hidden--visually {border: 0;clip: rect(1px 1px 1px 1px);clip: rect(1px, 1px, 1px, 1px);height: 1px;margin: -1px;overflow: hidden;padding: 0;position: absolute;width: 1px;}#sk-container-id-6 div.sk-estimator {font-family: monospace;background-color: #f0f8ff;border: 1px dotted black;border-radius: 0.25em;box-sizing: border-box;margin-bottom: 0.5em;}#sk-container-id-6 div.sk-estimator:hover {background-color: #d4ebff;}#sk-container-id-6 div.sk-parallel-item::after {content: \"\";width: 100%;border-bottom: 1px solid gray;flex-grow: 1;}#sk-container-id-6 div.sk-label:hover label.sk-toggleable__label {background-color: #d4ebff;}#sk-container-id-6 div.sk-serial::before {content: \"\";position: absolute;border-left: 1px solid gray;box-sizing: border-box;top: 0;bottom: 0;left: 50%;z-index: 0;}#sk-container-id-6 div.sk-serial {display: flex;flex-direction: column;align-items: center;background-color: white;padding-right: 0.2em;padding-left: 0.2em;position: relative;}#sk-container-id-6 div.sk-item {position: relative;z-index: 1;}#sk-container-id-6 div.sk-parallel {display: flex;align-items: stretch;justify-content: center;background-color: white;position: relative;}#sk-container-id-6 div.sk-item::before, #sk-container-id-6 div.sk-parallel-item::before {content: \"\";position: absolute;border-left: 1px solid gray;box-sizing: border-box;top: 0;bottom: 0;left: 50%;z-index: -1;}#sk-container-id-6 div.sk-parallel-item {display: flex;flex-direction: column;z-index: 1;position: relative;background-color: white;}#sk-container-id-6 div.sk-parallel-item:first-child::after {align-self: flex-end;width: 50%;}#sk-container-id-6 div.sk-parallel-item:last-child::after {align-self: flex-start;width: 50%;}#sk-container-id-6 div.sk-parallel-item:only-child::after {width: 0;}#sk-container-id-6 div.sk-dashed-wrapped {border: 1px dashed gray;margin: 0 0.4em 0.5em 0.4em;box-sizing: border-box;padding-bottom: 0.4em;background-color: white;}#sk-container-id-6 div.sk-label label {font-family: monospace;font-weight: bold;display: inline-block;line-height: 1.2em;}#sk-container-id-6 div.sk-label-container {text-align: center;}#sk-container-id-6 div.sk-container {/* jupyter's `normalize.less` sets `[hidden] { display: none; }` but bootstrap.min.css set `[hidden] { display: none !important; }` so we also need the `!important` here to be able to override the default hidden behavior on the sphinx rendered scikit-learn.org. See: https://github.com/scikit-learn/scikit-learn/issues/21755 */display: inline-block !important;position: relative;}#sk-container-id-6 div.sk-text-repr-fallback {display: none;}</style><div id=\"sk-container-id-6\" class=\"sk-top-container\"><div class=\"sk-text-repr-fallback\"><pre>KNeighborsClassifier()</pre><b>In a Jupyter environment, please rerun this cell to show the HTML representation or trust the notebook. <br />On GitHub, the HTML representation is unable to render, please try loading this page with nbviewer.org.</b></div><div class=\"sk-container\" hidden><div class=\"sk-item\"><div class=\"sk-estimator sk-toggleable\"><input class=\"sk-toggleable__control sk-hidden--visually\" id=\"sk-estimator-id-10\" type=\"checkbox\" checked><label for=\"sk-estimator-id-10\" class=\"sk-toggleable__label sk-toggleable__label-arrow\">KNeighborsClassifier</label><div class=\"sk-toggleable__content\"><pre>KNeighborsClassifier()</pre></div></div></div></div></div>"
      ],
      "text/plain": [
       "KNeighborsClassifier()"
      ]
     },
     "execution_count": 80,
     "metadata": {},
     "output_type": "execute_result"
    }
   ],
   "source": [
    "knn = KNeighborsClassifier()\n",
    "knn.fit(X_train,y_train)"
   ]
  },
  {
   "cell_type": "markdown",
   "metadata": {},
   "source": [
    "# 6. Validation"
   ]
  },
  {
   "cell_type": "markdown",
   "metadata": {},
   "source": [
    "### - score basic train & test split"
   ]
  },
  {
   "cell_type": "code",
   "execution_count": 81,
   "metadata": {},
   "outputs": [
    {
     "name": "stdout",
     "output_type": "stream",
     "text": [
      "Training Score :  0.9716666666666667\n",
      "Testing Score :  0.9633333333333334\n"
     ]
    }
   ],
   "source": [
    "print(\"Training Score : \",knn.score(X_train,y_train))\n",
    "print(\"Testing Score : \", knn.score(X_test,y_test))"
   ]
  },
  {
   "cell_type": "code",
   "execution_count": 82,
   "metadata": {},
   "outputs": [
    {
     "data": {
      "image/png": "[encoded data removed]",
      "text/plain": [
       "<Figure size 640x480 with 2 Axes>"
      ]
     },
     "metadata": {},
     "output_type": "display_data"
    }
   ],
   "source": [
    "y_pred = knn.predict(X_test)\n",
    "cm = confusion_matrix(y_test, y_pred, labels=knn.classes_)\n",
    "disp = ConfusionMatrixDisplay(confusion_matrix=cm, display_labels=knn.classes_)\n",
    "disp.plot()\n",
    "plt.show()"
   ]
  },
  {
   "cell_type": "markdown",
   "metadata": {},
   "source": [
    "### - K-Fold Cross Validation"
   ]
  },
  {
   "cell_type": "code",
   "execution_count": 87,
   "metadata": {},
   "outputs": [
    {
     "name": "stdout",
     "output_type": "stream",
     "text": [
      "======================= CV Train ============================\n",
      "Akurasi sebanyak 3 lipatan :  [0.961875 0.96     0.95125 ]\n",
      "Rata Rata Akurasi CV :  0.9577083333333333\n",
      "\n",
      "======================= CV Test =============================\n",
      "Akurasi sebanyak 3 lipatan :  [0.9175 0.93   0.9275]\n",
      "Rata Rata Akurasi CV :  0.9250000000000002\n"
     ]
    }
   ],
   "source": [
    "print(\"======================= CV Train ============================\")\n",
    "print(\"Akurasi sebanyak 3 lipatan : \", cross_val_score(knn, X_train,y_train, cv=3))\n",
    "print(\"Rata Rata Akurasi CV : \", np.mean(cross_val_score(knn, X_train,y_train, cv=3)))\n",
    "print(\"\")\n",
    "print(\"======================= CV Test =============================\")\n",
    "print(\"Akurasi sebanyak 3 lipatan : \", cross_val_score(knn, X_test,y_test, cv=3))\n",
    "print(\"Rata Rata Akurasi CV : \", np.mean(cross_val_score(knn, X_test,y_test, cv=3)))"
   ]
  },
  {
   "cell_type": "markdown",
   "metadata": {},
   "source": [
    "### - Improve Model"
   ]
  },
  {
   "cell_type": "markdown",
   "metadata": {},
   "source": [
    "- Tunning manual"
   ]
  },
  {
   "cell_type": "code",
   "execution_count": 61,
   "metadata": {},
   "outputs": [],
   "source": [
    "k = range(5,50,2)\n",
    "train_score = []\n",
    "test_score = []\n",
    "\n",
    "for i in k :\n",
    "    knn = KNeighborsClassifier(n_neighbors=i)\n",
    "    knn.fit(X_train, y_train)\n",
    "    train_score.append(knn.score(X_train,y_train))\n",
    "    test_score.append(knn.score(X_test,y_test))"
   ]
  },
  {
   "cell_type": "code",
   "execution_count": 69,
   "metadata": {},
   "outputs": [
    {
     "name": "stdout",
     "output_type": "stream",
     "text": [
      "n_neighbors =  5\n",
      "Max Train Score =  0.9716666666666667\n",
      "Max Test Score =  0.9633333333333334\n"
     ]
    },
    {
     "data": {
      "image/png": "[encoded data removed]",
      "text/plain": [
       "<Figure size 640x480 with 1 Axes>"
      ]
     },
     "metadata": {},
     "output_type": "display_data"
    }
   ],
   "source": [
    "plt.plot(k, train_score, label = \"train\")\n",
    "plt.plot(k, test_score, label = \"test\")\n",
    "plt.legend()\n",
    "\n",
    "print(\"n_neighbors = \", k[np.argmax(test_score)])\n",
    "print(\"Max Train Score = \", np.max(train_score))\n",
    "print(\"Max Test Score = \", np.max(test_score))"
   ]
  },
  {
   "cell_type": "markdown",
   "metadata": {},
   "source": [
    "- Tunning dengan GridSearchCV"
   ]
  },
  {
   "cell_type": "code",
   "execution_count": 63,
   "metadata": {},
   "outputs": [
    {
     "data": {
      "text/html": [
       "<style>#sk-container-id-4 {color: black;}#sk-container-id-4 pre{padding: 0;}#sk-container-id-4 div.sk-toggleable {background-color: white;}#sk-container-id-4 label.sk-toggleable__label {cursor: pointer;display: block;width: 100%;margin-bottom: 0;padding: 0.3em;box-sizing: border-box;text-align: center;}#sk-container-id-4 label.sk-toggleable__label-arrow:before {content: \"▸\";float: left;margin-right: 0.25em;color: #696969;}#sk-container-id-4 label.sk-toggleable__label-arrow:hover:before {color: black;}#sk-container-id-4 div.sk-estimator:hover label.sk-toggleable__label-arrow:before {color: black;}#sk-container-id-4 div.sk-toggleable__content {max-height: 0;max-width: 0;overflow: hidden;text-align: left;background-color: #f0f8ff;}#sk-container-id-4 div.sk-toggleable__content pre {margin: 0.2em;color: black;border-radius: 0.25em;background-color: #f0f8ff;}#sk-container-id-4 input.sk-toggleable__control:checked~div.sk-toggleable__content {max-height: 200px;max-width: 100%;overflow: auto;}#sk-container-id-4 input.sk-toggleable__control:checked~label.sk-toggleable__label-arrow:before {content: \"▾\";}#sk-container-id-4 div.sk-estimator input.sk-toggleable__control:checked~label.sk-toggleable__label {background-color: #d4ebff;}#sk-container-id-4 div.sk-label input.sk-toggleable__control:checked~label.sk-toggleable__label {background-color: #d4ebff;}#sk-container-id-4 input.sk-hidden--visually {border: 0;clip: rect(1px 1px 1px 1px);clip: rect(1px, 1px, 1px, 1px);height: 1px;margin: -1px;overflow: hidden;padding: 0;position: absolute;width: 1px;}#sk-container-id-4 div.sk-estimator {font-family: monospace;background-color: #f0f8ff;border: 1px dotted black;border-radius: 0.25em;box-sizing: border-box;margin-bottom: 0.5em;}#sk-container-id-4 div.sk-estimator:hover {background-color: #d4ebff;}#sk-container-id-4 div.sk-parallel-item::after {content: \"\";width: 100%;border-bottom: 1px solid gray;flex-grow: 1;}#sk-container-id-4 div.sk-label:hover label.sk-toggleable__label {background-color: #d4ebff;}#sk-container-id-4 div.sk-serial::before {content: \"\";position: absolute;border-left: 1px solid gray;box-sizing: border-box;top: 0;bottom: 0;left: 50%;z-index: 0;}#sk-container-id-4 div.sk-serial {display: flex;flex-direction: column;align-items: center;background-color: white;padding-right: 0.2em;padding-left: 0.2em;position: relative;}#sk-container-id-4 div.sk-item {position: relative;z-index: 1;}#sk-container-id-4 div.sk-parallel {display: flex;align-items: stretch;justify-content: center;background-color: white;position: relative;}#sk-container-id-4 div.sk-item::before, #sk-container-id-4 div.sk-parallel-item::before {content: \"\";position: absolute;border-left: 1px solid gray;box-sizing: border-box;top: 0;bottom: 0;left: 50%;z-index: -1;}#sk-container-id-4 div.sk-parallel-item {display: flex;flex-direction: column;z-index: 1;position: relative;background-color: white;}#sk-container-id-4 div.sk-parallel-item:first-child::after {align-self: flex-end;width: 50%;}#sk-container-id-4 div.sk-parallel-item:last-child::after {align-self: flex-start;width: 50%;}#sk-container-id-4 div.sk-parallel-item:only-child::after {width: 0;}#sk-container-id-4 div.sk-dashed-wrapped {border: 1px dashed gray;margin: 0 0.4em 0.5em 0.4em;box-sizing: border-box;padding-bottom: 0.4em;background-color: white;}#sk-container-id-4 div.sk-label label {font-family: monospace;font-weight: bold;display: inline-block;line-height: 1.2em;}#sk-container-id-4 div.sk-label-container {text-align: center;}#sk-container-id-4 div.sk-container {/* jupyter's `normalize.less` sets `[hidden] { display: none; }` but bootstrap.min.css set `[hidden] { display: none !important; }` so we also need the `!important` here to be able to override the default hidden behavior on the sphinx rendered scikit-learn.org. See: https://github.com/scikit-learn/scikit-learn/issues/21755 */display: inline-block !important;position: relative;}#sk-container-id-4 div.sk-text-repr-fallback {display: none;}</style><div id=\"sk-container-id-4\" class=\"sk-top-container\"><div class=\"sk-text-repr-fallback\"><pre>GridSearchCV(cv=3, estimator=KNeighborsClassifier(), n_jobs=-1,\n",
       "             param_grid={&#x27;metric&#x27;: [&#x27;minkowski&#x27;, &#x27;euclidean&#x27;, &#x27;manhattan&#x27;],\n",
       "                         &#x27;n_neighbors&#x27;: range(5, 50, 2),\n",
       "                         &#x27;weights&#x27;: [&#x27;uniform&#x27;, &#x27;distance&#x27;]})</pre><b>In a Jupyter environment, please rerun this cell to show the HTML representation or trust the notebook. <br />On GitHub, the HTML representation is unable to render, please try loading this page with nbviewer.org.</b></div><div class=\"sk-container\" hidden><div class=\"sk-item sk-dashed-wrapped\"><div class=\"sk-label-container\"><div class=\"sk-label sk-toggleable\"><input class=\"sk-toggleable__control sk-hidden--visually\" id=\"sk-estimator-id-6\" type=\"checkbox\" ><label for=\"sk-estimator-id-6\" class=\"sk-toggleable__label sk-toggleable__label-arrow\">GridSearchCV</label><div class=\"sk-toggleable__content\"><pre>GridSearchCV(cv=3, estimator=KNeighborsClassifier(), n_jobs=-1,\n",
       "             param_grid={&#x27;metric&#x27;: [&#x27;minkowski&#x27;, &#x27;euclidean&#x27;, &#x27;manhattan&#x27;],\n",
       "                         &#x27;n_neighbors&#x27;: range(5, 50, 2),\n",
       "                         &#x27;weights&#x27;: [&#x27;uniform&#x27;, &#x27;distance&#x27;]})</pre></div></div></div><div class=\"sk-parallel\"><div class=\"sk-parallel-item\"><div class=\"sk-item\"><div class=\"sk-label-container\"><div class=\"sk-label sk-toggleable\"><input class=\"sk-toggleable__control sk-hidden--visually\" id=\"sk-estimator-id-7\" type=\"checkbox\" ><label for=\"sk-estimator-id-7\" class=\"sk-toggleable__label sk-toggleable__label-arrow\">estimator: KNeighborsClassifier</label><div class=\"sk-toggleable__content\"><pre>KNeighborsClassifier()</pre></div></div></div><div class=\"sk-serial\"><div class=\"sk-item\"><div class=\"sk-estimator sk-toggleable\"><input class=\"sk-toggleable__control sk-hidden--visually\" id=\"sk-estimator-id-8\" type=\"checkbox\" ><label for=\"sk-estimator-id-8\" class=\"sk-toggleable__label sk-toggleable__label-arrow\">KNeighborsClassifier</label><div class=\"sk-toggleable__content\"><pre>KNeighborsClassifier()</pre></div></div></div></div></div></div></div></div></div></div>"
      ],
      "text/plain": [
       "GridSearchCV(cv=3, estimator=KNeighborsClassifier(), n_jobs=-1,\n",
       "             param_grid={'metric': ['minkowski', 'euclidean', 'manhattan'],\n",
       "                         'n_neighbors': range(5, 50, 2),\n",
       "                         'weights': ['uniform', 'distance']})"
      ]
     },
     "execution_count": 63,
     "metadata": {},
     "output_type": "execute_result"
    }
   ],
   "source": [
    "KNNparameter = {\n",
    "    \"n_neighbors\" : range(5,50,2),\n",
    "    \"weights\" : ['uniform', 'distance'],\n",
    "    'metric' : ['minkowski','euclidean','manhattan']\n",
    "}\n",
    "knn_tunning = GridSearchCV(KNeighborsClassifier(),KNNparameter, cv=3, n_jobs=-1)\n",
    "knn_tunning.fit(X_train,y_train)"
   ]
  },
  {
   "cell_type": "code",
   "execution_count": 64,
   "metadata": {},
   "outputs": [
    {
     "name": "stdout",
     "output_type": "stream",
     "text": [
      "best Parameter : {'metric': 'manhattan', 'n_neighbors': 5, 'weights': 'distance'}\n",
      "Training Score :  0.961875\n",
      "Testing Score :  0.9675\n"
     ]
    }
   ],
   "source": [
    "reports = pd.DataFrame(knn_tunning.cv_results_).sort_values(\"rank_test_score\")\n",
    "print(\"best Parameter :\" , knn_tunning.best_params_)\n",
    "\n",
    "#Overfit?\n",
    "print(\"Training Score : \",reports.iloc[0,11])\n",
    "print(\"Testing Score : \", knn_tunning.score(X_test,y_test))"
   ]
  },
  {
   "cell_type": "markdown",
   "metadata": {},
   "source": [
    "# 7. Sanity Check"
   ]
  },
  {
   "cell_type": "code",
   "execution_count": 65,
   "metadata": {},
   "outputs": [
    {
     "data": {
      "text/plain": [
       "array([1, 1, 1, 2, 3, 3], dtype=int64)"
      ]
     },
     "execution_count": 65,
     "metadata": {},
     "output_type": "execute_result"
    }
   ],
   "source": [
    "text = [['Kirim Ulang Email...'], #Low\n",
    "        ['matikan akun!!'], #Low\n",
    "        ['Kendala aplikasi          airlis'], #Low\n",
    "        ['Reject by djp'], #Medium\n",
    "        ['preloading 30 RT pengganti sisna jakarta timur/;'], #High\n",
    "        ['[URGENT] layanan airlis ga bisa dibuka kacau banget'] #High\n",
    "        ]\n",
    "text = pd.DataFrame(text, columns=['input'])\n",
    "#Remove Punct\n",
    "text['input'] =text['input'].map(rmPunct)\n",
    "#Encode\n",
    "textVecs = [vectorize(text,wv) for text in text['input']]\n",
    "textVecs = np.array(textVecs)\n",
    "knn_tunning.predict(textVecs)"
   ]
  },
  {
   "cell_type": "markdown",
   "metadata": {},
   "source": [
    "# 8. Import Model"
   ]
  },
  {
   "cell_type": "code",
   "execution_count": 66,
   "metadata": {},
   "outputs": [
    {
     "data": {
      "text/plain": [
       "['Text-Classification-Models.joblib']"
      ]
     },
     "execution_count": 66,
     "metadata": {},
     "output_type": "execute_result"
    }
   ],
   "source": [
    "dump(knn_tunning,'Text-Classification-Models.joblib')"
   ]
  }
 ],
 "metadata": {
  "kernelspec": {
   "display_name": "Python 3",
   "language": "python",
   "name": "python3"
  },
  "language_info": {
   "codemirror_mode": {
    "name": "ipython",
    "version": 3
   },
   "file_extension": ".py",
   "mimetype": "text/x-python",
   "name": "python",
   "nbconvert_exporter": "python",
   "pygments_lexer": "ipython3",
   "version": "3.11.2"
  },
  "orig_nbformat": 4
 },
 "nbformat": 4,
 "nbformat_minor": 2
}
